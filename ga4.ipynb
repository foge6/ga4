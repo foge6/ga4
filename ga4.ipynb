{
 "cells": [
  {
   "cell_type": "code",
   "execution_count": 5,
   "metadata": {},
   "outputs": [],
   "source": [
    "import mysql.connector\n",
    "from datetime import datetime, timedelta\n",
    "from google.analytics.data_v1beta import BetaAnalyticsDataClient\n",
    "from google.analytics.data_v1beta.types import Dimension\n",
    "import pandas as pd\n",
    "from google.oauth2.service_account import Credentials\n",
    "from googleapiclient.discovery import build"
   ]
  },
  {
   "cell_type": "code",
   "execution_count": 3,
   "metadata": {},
   "outputs": [
    {
     "name": "stdout",
     "output_type": "stream",
     "text": [
      "6\n",
      "11\n",
      "12\n"
     ]
    }
   ],
   "source": [
    "#  host= '127.0.0.1:3306'\n",
    "conn = mysql.connector.connect(\n",
    "    host= '127.0.0.1',\n",
    "    user= 'root',\n",
    "    password= '312312534534qwe',\n",
    "    database= 'HomeWork'\n",
    ")\n",
    "cursor = conn.cursor()\n",
    "# Вычисление даты \"сегодня - 2 дня\"\n",
    "today = datetime.now().date()\n",
    "two_days_ago = today - timedelta(days=2)\n",
    "# Формирование SQL-запроса\n",
    "query = \"SELECT order_number FROM orders WHERE site_id IN (1, 2, 3) AND created_at >= %s\"\n",
    "params = (two_days_ago,)\n",
    "# Выполнение SQL-запроса\n",
    "cursor.execute(query, params)\n",
    "# Получение результатов запроса\n",
    "results = cursor.fetchall()\n",
    "# Вывод результатов\n",
    "for row in results:\n",
    "    print(row[0])"
   ]
  },
  {
   "cell_type": "code",
   "execution_count": 24,
   "metadata": {},
   "outputs": [
    {
     "name": "stdout",
     "output_type": "stream",
     "text": [
      "Event sent successfully.\n"
     ]
    }
   ],
   "source": [
    "import requests\n",
    "\n",
    "# Замените на свой GA4 Measurement ID (или идентификатор ресурса)\n",
    "GA4_MEASUREMENT_ID = 'G-GW1RQ6GBD9'\n",
    "\n",
    "# Замените на ваш endpoint Measurement Protocol (https://www.google-analytics.com/mp/collect)\n",
    "ENDPOINT = 'http://cs13655-opencart-wyjjf.tw1.ru'\n",
    "\n",
    "# Ваши данные события (пример)\n",
    "event_data = {\n",
    "    'v': '1',  # Версия Measurement Protocol\n",
    "    'tid': GA4_MEASUREMENT_ID,\n",
    "    'cid': '123456',  # Уникальный идентификатор клиента\n",
    "    't': 'event',  # Тип события\n",
    "    'ec': 'example_category',  # Категория события\n",
    "    'ea': 'example_action',  # Действие события\n",
    "    'el': 'example_label',  # Метка события\n",
    "    'ev': 1  # Значение события\n",
    "}\n",
    "\n",
    "response = requests.post(ENDPOINT, data=event_data)\n",
    "\n",
    "if response.status_code == 200:\n",
    "    print(\"Event sent successfully.\")\n",
    "else:\n",
    "    print(f\"Failed to send event. Status code: {response.status_code}\")\n",
    "    print(response.text)"
   ]
  },
  {
   "cell_type": "code",
   "execution_count": 27,
   "metadata": {},
   "outputs": [
    {
     "name": "stdout",
     "output_type": "stream",
     "text": [
      "Event sent successfully.\n",
      "Data:\n",
      "v: 1\n",
      "tid: G-GW1RQ6GBD9\n",
      "cid: 123456\n",
      "t: event\n",
      "ec: user_data\n",
      "ea: source_medium\n",
      "el: source=example_source|medium=example_medium\n",
      "\n"
     ]
    }
   ],
   "source": [
    "import requests\n",
    "\n",
    "# Замените на ваш GA4 Measurement ID (или идентификатор ресурса)\n",
    "GA4_MEASUREMENT_ID = 'G-GW1RQ6GBD9'\n",
    "\n",
    "# Замените на ваш endpoint Measurement Protocol (https://www.google-analytics.com/mp/collect)\n",
    "ENDPOINT = 'http://cs13655-opencart-wyjjf.tw1.ru'\n",
    "\n",
    "# Список для хранения данных\n",
    "data_list = []\n",
    "\n",
    "# Ваши данные события для отслеживания source и medium\n",
    "event_data = {\n",
    "    'v': '1',  # Версия Measurement Protocol\n",
    "    'tid': GA4_MEASUREMENT_ID,\n",
    "    'cid': '123456',  # Уникальный идентификатор клиента\n",
    "    't': 'event',  # Тип события\n",
    "    'ec': 'user_data',  # Категория события (пользовательские данные)\n",
    "    'ea': 'source_medium',  # Действие события (источник и медиум)\n",
    "    'el': 'source=example_source|medium=example_medium',  # Метка события\n",
    "}\n",
    "\n",
    "# Отправляем событие и добавляем его в список данных\n",
    "response = requests.post(ENDPOINT, data=event_data)\n",
    "if response.status_code == 200:\n",
    "    print(\"Event sent successfully.\")\n",
    "    data_list.append(event_data)\n",
    "else:\n",
    "    print(f\"Failed to send event. Status code: {response.status_code}\")\n",
    "    print(response.text)\n",
    "\n",
    "# Выводим данные из списка в терминал\n",
    "for data in data_list:\n",
    "    print(\"Data:\")\n",
    "    for key, value in data.items():\n",
    "        print(f\"{key}: {value}\")\n",
    "    print()"
   ]
  },
  {
   "cell_type": "code",
   "execution_count": 28,
   "metadata": {},
   "outputs": [
    {
     "name": "stdout",
     "output_type": "stream",
     "text": [
      "Event sent successfully.\n",
      "User ID | Source | Medium\n",
      "123456 | example_source | example_medium\n"
     ]
    }
   ],
   "source": [
    "import requests\n",
    "\n",
    "# Замените на ваш GA4 Measurement ID (или идентификатор ресурса)\n",
    "GA4_MEASUREMENT_ID = 'G-GW1RQ6GBD9'\n",
    "\n",
    "# Замените на ваш endpoint Measurement Protocol (https://www.google-analytics.com/mp/collect)\n",
    "ENDPOINT = 'http://cs13655-opencart-wyjjf.tw1.ru'\n",
    "\n",
    "# Список для хранения данных\n",
    "data_list = []\n",
    "\n",
    "# Ваши данные события для отслеживания source и medium\n",
    "event_data = {\n",
    "    'v': '1',  # Версия Measurement Protocol\n",
    "    'tid': GA4_MEASUREMENT_ID,\n",
    "    'cid': '123456',  # Уникальный идентификатор клиента\n",
    "    't': 'event',  # Тип события\n",
    "    'ec': 'user_data',  # Категория события (пользовательские данные)\n",
    "    'ea': 'source_medium',  # Действие события (источник и медиум)\n",
    "    'el': 'source=example_source|medium=example_medium',  # Метка события\n",
    "}\n",
    "\n",
    "# Отправляем событие и добавляем его в список данных\n",
    "response = requests.post(ENDPOINT, data=event_data)\n",
    "if response.status_code == 200:\n",
    "    print(\"Event sent successfully.\")\n",
    "    data_list.append(event_data)\n",
    "else:\n",
    "    print(f\"Failed to send event. Status code: {response.status_code}\")\n",
    "    print(response.text)\n",
    "\n",
    "# Вывод данных в виде таблицы\n",
    "print(\"User ID | Source | Medium\")\n",
    "for data in data_list:\n",
    "    user_id = data['cid']\n",
    "    label = data['el']\n",
    "    source = None\n",
    "    medium = None\n",
    "\n",
    "    # Разбираем метку события, чтобы получить source и medium\n",
    "    if label:\n",
    "        label_parts = label.split('|')\n",
    "        for part in label_parts:\n",
    "            key, value = part.split('=')\n",
    "            if key == 'source':\n",
    "                source = value\n",
    "            elif key == 'medium':\n",
    "                medium = value\n",
    "\n",
    "    print(f\"{user_id} | {source} | {medium}\")\n"
   ]
  }
 ],
 "metadata": {
  "kernelspec": {
   "display_name": "Python 3",
   "language": "python",
   "name": "python3"
  },
  "language_info": {
   "codemirror_mode": {
    "name": "ipython",
    "version": 3
   },
   "file_extension": ".py",
   "mimetype": "text/x-python",
   "name": "python",
   "nbconvert_exporter": "python",
   "pygments_lexer": "ipython3",
   "version": "3.11.2"
  }
 },
 "nbformat": 4,
 "nbformat_minor": 2
}

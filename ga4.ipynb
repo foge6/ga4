{
 "cells": [
  {
   "cell_type": "code",
   "execution_count": 5,
   "metadata": {},
   "outputs": [],
   "source": [
    "import mysql.connector\n",
    "from datetime import datetime, timedelta\n",
    "from google.analytics.data_v1beta import BetaAnalyticsDataClient\n",
    "from google.analytics.data_v1beta.types import Dimension\n",
    "import pandas as pd\n",
    "from google.oauth2.service_account import Credentials\n",
    "from googleapiclient.discovery import build"
   ]
  },
  {
   "cell_type": "code",
   "execution_count": 3,
   "metadata": {},
   "outputs": [
    {
     "name": "stdout",
     "output_type": "stream",
     "text": [
      "6\n",
      "11\n",
      "12\n"
     ]
    }
   ],
   "source": [
    "#  host= '127.0.0.1:3306'\n",
    "conn = mysql.connector.connect(\n",
    "    host= '127.0.0.1',\n",
    "    user= 'root',\n",
    "    password= '312312534534qwe',\n",
    "    database= 'HomeWork'\n",
    ")\n",
    "cursor = conn.cursor()\n",
    "# Вычисление даты \"сегодня - 2 дня\"\n",
    "today = datetime.now().date()\n",
    "two_days_ago = today - timedelta(days=2)\n",
    "# Формирование SQL-запроса\n",
    "query = \"SELECT order_number FROM orders WHERE site_id IN (1, 2, 3) AND created_at >= %s\"\n",
    "params = (two_days_ago,)\n",
    "# Выполнение SQL-запроса\n",
    "cursor.execute(query, params)\n",
    "# Получение результатов запроса\n",
    "results = cursor.fetchall()\n",
    "# Вывод результатов\n",
    "for row in results:\n",
    "    print(row[0])"
   ]
  },
  {
   "cell_type": "code",
   "execution_count": 12,
   "metadata": {},
   "outputs": [
    {
     "ename": "AttributeError",
     "evalue": "'datetime.datetime' object has no attribute 'get'",
     "output_type": "error",
     "traceback": [
      "\u001b[1;31m---------------------------------------------------------------------------\u001b[0m",
      "\u001b[1;31mAttributeError\u001b[0m                            Traceback (most recent call last)",
      "\u001b[1;32mc:\\Users\\DNS\\Desktop\\Работка\\ga4.ipynb Ячейка 3\u001b[0m line \u001b[0;36m1\n\u001b[0;32m     <a href='vscode-notebook-cell:/c%3A/Users/DNS/Desktop/%D0%A0%D0%B0%D0%B1%D0%BE%D1%82%D0%BA%D0%B0/ga4.ipynb#W2sZmlsZQ%3D%3D?line=11'>12</a>\u001b[0m analytics \u001b[39m=\u001b[39m build(\u001b[39m'\u001b[39m\u001b[39manalytics\u001b[39m\u001b[39m'\u001b[39m, \u001b[39m'\u001b[39m\u001b[39mv3\u001b[39m\u001b[39m'\u001b[39m, credentials\u001b[39m=\u001b[39mcredentials)\n\u001b[0;32m     <a href='vscode-notebook-cell:/c%3A/Users/DNS/Desktop/%D0%A0%D0%B0%D0%B1%D0%BE%D1%82%D0%BA%D0%B0/ga4.ipynb#W2sZmlsZQ%3D%3D?line=13'>14</a>\u001b[0m \u001b[39m# Получение данных по активным пользователям\u001b[39;00m\n\u001b[1;32m---> <a href='vscode-notebook-cell:/c%3A/Users/DNS/Desktop/%D0%A0%D0%B0%D0%B1%D0%BE%D1%82%D0%BA%D0%B0/ga4.ipynb#W2sZmlsZQ%3D%3D?line=14'>15</a>\u001b[0m response \u001b[39m=\u001b[39m datetime\u001b[39m.\u001b[39;49mdatetime\u001b[39m.\u001b[39;49mnow()\u001b[39m.\u001b[39;49mget(\n\u001b[0;32m     <a href='vscode-notebook-cell:/c%3A/Users/DNS/Desktop/%D0%A0%D0%B0%D0%B1%D0%BE%D1%82%D0%BA%D0%B0/ga4.ipynb#W2sZmlsZQ%3D%3D?line=15'>16</a>\u001b[0m     ids\u001b[39m=\u001b[39m\u001b[39m'\u001b[39m\u001b[39mga:\u001b[39m\u001b[39m'\u001b[39m \u001b[39m+\u001b[39m property_id,\n\u001b[0;32m     <a href='vscode-notebook-cell:/c%3A/Users/DNS/Desktop/%D0%A0%D0%B0%D0%B1%D0%BE%D1%82%D0%BA%D0%B0/ga4.ipynb#W2sZmlsZQ%3D%3D?line=16'>17</a>\u001b[0m     metrics\u001b[39m=\u001b[39m\u001b[39m'\u001b[39m\u001b[39mrt:medium,rt:source\u001b[39m\u001b[39m'\u001b[39m,\n\u001b[0;32m     <a href='vscode-notebook-cell:/c%3A/Users/DNS/Desktop/%D0%A0%D0%B0%D0%B1%D0%BE%D1%82%D0%BA%D0%B0/ga4.ipynb#W2sZmlsZQ%3D%3D?line=17'>18</a>\u001b[0m     dimensions\u001b[39m=\u001b[39m\u001b[39m'\u001b[39m\u001b[39mrt:clientId\u001b[39m\u001b[39m'\u001b[39m,\n\u001b[0;32m     <a href='vscode-notebook-cell:/c%3A/Users/DNS/Desktop/%D0%A0%D0%B0%D0%B1%D0%BE%D1%82%D0%BA%D0%B0/ga4.ipynb#W2sZmlsZQ%3D%3D?line=18'>19</a>\u001b[0m     sort\u001b[39m=\u001b[39m\u001b[39m'\u001b[39m\u001b[39m-rt:medium\u001b[39m\u001b[39m'\u001b[39m,\n\u001b[0;32m     <a href='vscode-notebook-cell:/c%3A/Users/DNS/Desktop/%D0%A0%D0%B0%D0%B1%D0%BE%D1%82%D0%BA%D0%B0/ga4.ipynb#W2sZmlsZQ%3D%3D?line=19'>20</a>\u001b[0m     filters\u001b[39m=\u001b[39m\u001b[39m'\u001b[39m\u001b[39mrt:medium!=(none)\u001b[39m\u001b[39m'\u001b[39m,\n\u001b[0;32m     <a href='vscode-notebook-cell:/c%3A/Users/DNS/Desktop/%D0%A0%D0%B0%D0%B1%D0%BE%D1%82%D0%BA%D0%B0/ga4.ipynb#W2sZmlsZQ%3D%3D?line=20'>21</a>\u001b[0m     max_results\u001b[39m=\u001b[39m\u001b[39m10000\u001b[39m\n\u001b[0;32m     <a href='vscode-notebook-cell:/c%3A/Users/DNS/Desktop/%D0%A0%D0%B0%D0%B1%D0%BE%D1%82%D0%BA%D0%B0/ga4.ipynb#W2sZmlsZQ%3D%3D?line=21'>22</a>\u001b[0m )\u001b[39m.\u001b[39mexecute()\n\u001b[0;32m     <a href='vscode-notebook-cell:/c%3A/Users/DNS/Desktop/%D0%A0%D0%B0%D0%B1%D0%BE%D1%82%D0%BA%D0%B0/ga4.ipynb#W2sZmlsZQ%3D%3D?line=23'>24</a>\u001b[0m \u001b[39m# Преобразование данных в датафрейм\u001b[39;00m\n\u001b[0;32m     <a href='vscode-notebook-cell:/c%3A/Users/DNS/Desktop/%D0%A0%D0%B0%D0%B1%D0%BE%D1%82%D0%BA%D0%B0/ga4.ipynb#W2sZmlsZQ%3D%3D?line=24'>25</a>\u001b[0m data \u001b[39m=\u001b[39m []\n",
      "\u001b[1;31mAttributeError\u001b[0m: 'datetime.datetime' object has no attribute 'get'"
     ]
    }
   ],
   "source": [
    "import pandas as pd\n",
    "from google.oauth2.service_account import Credentials\n",
    "from googleapiclient.discovery import build\n",
    "# Укажите путь к файлу с учетными данными сервисного аккаунта\n",
    "credentials = Credentials.from_service_account_file('swift-setup-401613-fb88b16e247f.json')\n",
    "\n",
    "# Укажите ID вашего аккаунта Google Analytics 4\n",
    "property_id = 'G-PSW1MY7HB4'\n",
    "\n",
    "# Создание объекта Google Analytics\n",
    "analytics = build('analytics', 'v3', credentials=credentials)\n",
    "\n",
    "# Получение данных по активным пользователям\n",
    "response = analytics.datetime.datetime.now().get(\n",
    "    ids='ga:' + property_id,\n",
    "    metrics='rt:medium,rt:source',\n",
    "    dimensions='rt:clientId',\n",
    "    sort='-rt:medium',\n",
    "    filters='rt:medium!=(none)',\n",
    "    max_results=10000\n",
    ").execute()\n",
    "\n",
    "# Преобразование данных в датафрейм\n",
    "data = []\n",
    "for row in response['rows']:\n",
    "    client_id = row[0]\n",
    "    medium = row[1]\n",
    "    source = row[2]\n",
    "    data.append([client_id, medium, source])\n",
    "\n",
    "df = pd.DataFrame(data, columns=['Client ID', 'Medium', 'Source'])\n",
    "print(df)"
   ]
  },
  {
   "cell_type": "code",
   "execution_count": 19,
   "metadata": {},
   "outputs": [
    {
     "ename": "HttpError",
     "evalue": "<HttpError 400 when requesting https://analyticsreporting.googleapis.com/v4/reports:batchGet?alt=json returned \"Invalid value 'G-PSW1MY7HB4' for viewId parameter.\". Details: \"Invalid value 'G-PSW1MY7HB4' for viewId parameter.\">",
     "output_type": "error",
     "traceback": [
      "\u001b[1;31m---------------------------------------------------------------------------\u001b[0m",
      "\u001b[1;31mHttpError\u001b[0m                                 Traceback (most recent call last)",
      "\u001b[1;32mc:\\Users\\DNS\\Desktop\\Работка\\ga4.ipynb Ячейка 4\u001b[0m line \u001b[0;36m2\n\u001b[0;32m     <a href='vscode-notebook-cell:/c%3A/Users/DNS/Desktop/%D0%A0%D0%B0%D0%B1%D0%BE%D1%82%D0%BA%D0%B0/ga4.ipynb#W4sZmlsZQ%3D%3D?line=14'>15</a>\u001b[0m analytics \u001b[39m=\u001b[39m build(\u001b[39m'\u001b[39m\u001b[39manalyticsreporting\u001b[39m\u001b[39m'\u001b[39m, \u001b[39m'\u001b[39m\u001b[39mv4\u001b[39m\u001b[39m'\u001b[39m, credentials\u001b[39m=\u001b[39mcredentials)\n\u001b[0;32m     <a href='vscode-notebook-cell:/c%3A/Users/DNS/Desktop/%D0%A0%D0%B0%D0%B1%D0%BE%D1%82%D0%BA%D0%B0/ga4.ipynb#W4sZmlsZQ%3D%3D?line=16'>17</a>\u001b[0m \u001b[39m# Запрос к GA4\u001b[39;00m\n\u001b[0;32m     <a href='vscode-notebook-cell:/c%3A/Users/DNS/Desktop/%D0%A0%D0%B0%D0%B1%D0%BE%D1%82%D0%BA%D0%B0/ga4.ipynb#W4sZmlsZQ%3D%3D?line=17'>18</a>\u001b[0m response \u001b[39m=\u001b[39m analytics\u001b[39m.\u001b[39;49mreports()\u001b[39m.\u001b[39;49mbatchGet(\n\u001b[0;32m     <a href='vscode-notebook-cell:/c%3A/Users/DNS/Desktop/%D0%A0%D0%B0%D0%B1%D0%BE%D1%82%D0%BA%D0%B0/ga4.ipynb#W4sZmlsZQ%3D%3D?line=18'>19</a>\u001b[0m     body\u001b[39m=\u001b[39;49m{\n\u001b[0;32m     <a href='vscode-notebook-cell:/c%3A/Users/DNS/Desktop/%D0%A0%D0%B0%D0%B1%D0%BE%D1%82%D0%BA%D0%B0/ga4.ipynb#W4sZmlsZQ%3D%3D?line=19'>20</a>\u001b[0m         \u001b[39m'\u001b[39;49m\u001b[39mreportRequests\u001b[39;49m\u001b[39m'\u001b[39;49m: [\n\u001b[0;32m     <a href='vscode-notebook-cell:/c%3A/Users/DNS/Desktop/%D0%A0%D0%B0%D0%B1%D0%BE%D1%82%D0%BA%D0%B0/ga4.ipynb#W4sZmlsZQ%3D%3D?line=20'>21</a>\u001b[0m             {\n\u001b[0;32m     <a href='vscode-notebook-cell:/c%3A/Users/DNS/Desktop/%D0%A0%D0%B0%D0%B1%D0%BE%D1%82%D0%BA%D0%B0/ga4.ipynb#W4sZmlsZQ%3D%3D?line=21'>22</a>\u001b[0m                 \u001b[39m'\u001b[39;49m\u001b[39mviewId\u001b[39;49m\u001b[39m'\u001b[39;49m: VIEW_ID,\n\u001b[0;32m     <a href='vscode-notebook-cell:/c%3A/Users/DNS/Desktop/%D0%A0%D0%B0%D0%B1%D0%BE%D1%82%D0%BA%D0%B0/ga4.ipynb#W4sZmlsZQ%3D%3D?line=22'>23</a>\u001b[0m                 \u001b[39m'\u001b[39;49m\u001b[39mdateRanges\u001b[39;49m\u001b[39m'\u001b[39;49m: [{\u001b[39m'\u001b[39;49m\u001b[39mstartDate\u001b[39;49m\u001b[39m'\u001b[39;49m: \u001b[39m'\u001b[39;49m\u001b[39m7daysAgo\u001b[39;49m\u001b[39m'\u001b[39;49m, \u001b[39m'\u001b[39;49m\u001b[39mendDate\u001b[39;49m\u001b[39m'\u001b[39;49m: \u001b[39m'\u001b[39;49m\u001b[39mtoday\u001b[39;49m\u001b[39m'\u001b[39;49m}],\n\u001b[0;32m     <a href='vscode-notebook-cell:/c%3A/Users/DNS/Desktop/%D0%A0%D0%B0%D0%B1%D0%BE%D1%82%D0%BA%D0%B0/ga4.ipynb#W4sZmlsZQ%3D%3D?line=23'>24</a>\u001b[0m                 \u001b[39m'\u001b[39;49m\u001b[39mmetrics\u001b[39;49m\u001b[39m'\u001b[39;49m: [{\u001b[39m'\u001b[39;49m\u001b[39mexpression\u001b[39;49m\u001b[39m'\u001b[39;49m: \u001b[39m'\u001b[39;49m\u001b[39mga:sessions\u001b[39;49m\u001b[39m'\u001b[39;49m}],\n\u001b[0;32m     <a href='vscode-notebook-cell:/c%3A/Users/DNS/Desktop/%D0%A0%D0%B0%D0%B1%D0%BE%D1%82%D0%BA%D0%B0/ga4.ipynb#W4sZmlsZQ%3D%3D?line=24'>25</a>\u001b[0m                 \u001b[39m'\u001b[39;49m\u001b[39mdimensions\u001b[39;49m\u001b[39m'\u001b[39;49m: [{\u001b[39m'\u001b[39;49m\u001b[39mname\u001b[39;49m\u001b[39m'\u001b[39;49m: \u001b[39m'\u001b[39;49m\u001b[39mga:medium\u001b[39;49m\u001b[39m'\u001b[39;49m}, {\u001b[39m'\u001b[39;49m\u001b[39mname\u001b[39;49m\u001b[39m'\u001b[39;49m: \u001b[39m'\u001b[39;49m\u001b[39mga:source\u001b[39;49m\u001b[39m'\u001b[39;49m}]\n\u001b[0;32m     <a href='vscode-notebook-cell:/c%3A/Users/DNS/Desktop/%D0%A0%D0%B0%D0%B1%D0%BE%D1%82%D0%BA%D0%B0/ga4.ipynb#W4sZmlsZQ%3D%3D?line=25'>26</a>\u001b[0m             }\n\u001b[0;32m     <a href='vscode-notebook-cell:/c%3A/Users/DNS/Desktop/%D0%A0%D0%B0%D0%B1%D0%BE%D1%82%D0%BA%D0%B0/ga4.ipynb#W4sZmlsZQ%3D%3D?line=26'>27</a>\u001b[0m         ]\n\u001b[0;32m     <a href='vscode-notebook-cell:/c%3A/Users/DNS/Desktop/%D0%A0%D0%B0%D0%B1%D0%BE%D1%82%D0%BA%D0%B0/ga4.ipynb#W4sZmlsZQ%3D%3D?line=27'>28</a>\u001b[0m     }\n\u001b[1;32m---> <a href='vscode-notebook-cell:/c%3A/Users/DNS/Desktop/%D0%A0%D0%B0%D0%B1%D0%BE%D1%82%D0%BA%D0%B0/ga4.ipynb#W4sZmlsZQ%3D%3D?line=28'>29</a>\u001b[0m )\u001b[39m.\u001b[39;49mexecute()\n\u001b[0;32m     <a href='vscode-notebook-cell:/c%3A/Users/DNS/Desktop/%D0%A0%D0%B0%D0%B1%D0%BE%D1%82%D0%BA%D0%B0/ga4.ipynb#W4sZmlsZQ%3D%3D?line=30'>31</a>\u001b[0m \u001b[39m# Извлечение данных о medium и source из ответа\u001b[39;00m\n\u001b[0;32m     <a href='vscode-notebook-cell:/c%3A/Users/DNS/Desktop/%D0%A0%D0%B0%D0%B1%D0%BE%D1%82%D0%BA%D0%B0/ga4.ipynb#W4sZmlsZQ%3D%3D?line=31'>32</a>\u001b[0m data \u001b[39m=\u001b[39m response[\u001b[39m'\u001b[39m\u001b[39mreports\u001b[39m\u001b[39m'\u001b[39m][\u001b[39m0\u001b[39m][\u001b[39m'\u001b[39m\u001b[39mdata\u001b[39m\u001b[39m'\u001b[39m][\u001b[39m'\u001b[39m\u001b[39mrows\u001b[39m\u001b[39m'\u001b[39m]\n",
      "File \u001b[1;32mc:\\Users\\DNS\\AppData\\Local\\Programs\\Python\\Python311\\Lib\\site-packages\\googleapiclient\\_helpers.py:130\u001b[0m, in \u001b[0;36mpositional.<locals>.positional_decorator.<locals>.positional_wrapper\u001b[1;34m(*args, **kwargs)\u001b[0m\n\u001b[0;32m    128\u001b[0m     \u001b[39melif\u001b[39;00m positional_parameters_enforcement \u001b[39m==\u001b[39m POSITIONAL_WARNING:\n\u001b[0;32m    129\u001b[0m         logger\u001b[39m.\u001b[39mwarning(message)\n\u001b[1;32m--> 130\u001b[0m \u001b[39mreturn\u001b[39;00m wrapped(\u001b[39m*\u001b[39;49margs, \u001b[39m*\u001b[39;49m\u001b[39m*\u001b[39;49mkwargs)\n",
      "File \u001b[1;32mc:\\Users\\DNS\\AppData\\Local\\Programs\\Python\\Python311\\Lib\\site-packages\\googleapiclient\\http.py:938\u001b[0m, in \u001b[0;36mHttpRequest.execute\u001b[1;34m(self, http, num_retries)\u001b[0m\n\u001b[0;32m    936\u001b[0m     callback(resp)\n\u001b[0;32m    937\u001b[0m \u001b[39mif\u001b[39;00m resp\u001b[39m.\u001b[39mstatus \u001b[39m>\u001b[39m\u001b[39m=\u001b[39m \u001b[39m300\u001b[39m:\n\u001b[1;32m--> 938\u001b[0m     \u001b[39mraise\u001b[39;00m HttpError(resp, content, uri\u001b[39m=\u001b[39m\u001b[39mself\u001b[39m\u001b[39m.\u001b[39muri)\n\u001b[0;32m    939\u001b[0m \u001b[39mreturn\u001b[39;00m \u001b[39mself\u001b[39m\u001b[39m.\u001b[39mpostproc(resp, content)\n",
      "\u001b[1;31mHttpError\u001b[0m: <HttpError 400 when requesting https://analyticsreporting.googleapis.com/v4/reports:batchGet?alt=json returned \"Invalid value 'G-PSW1MY7HB4' for viewId parameter.\". Details: \"Invalid value 'G-PSW1MY7HB4' for viewId parameter.\">"
     ]
    }
   ],
   "source": []
  }
 ],
 "metadata": {
  "kernelspec": {
   "display_name": "Python 3",
   "language": "python",
   "name": "python3"
  },
  "language_info": {
   "codemirror_mode": {
    "name": "ipython",
    "version": 3
   },
   "file_extension": ".py",
   "mimetype": "text/x-python",
   "name": "python",
   "nbconvert_exporter": "python",
   "pygments_lexer": "ipython3",
   "version": "3.11.2"
  }
 },
 "nbformat": 4,
 "nbformat_minor": 2
}

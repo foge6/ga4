{
 "cells": [
  {
   "cell_type": "code",
   "execution_count": 5,
   "metadata": {},
   "outputs": [],
   "source": [
    "import mysql.connector\n",
    "from datetime import datetime, timedelta\n",
    "from google.analytics.data_v1beta import BetaAnalyticsDataClient\n",
    "from google.analytics.data_v1beta.types import Dimension\n",
    "import pandas as pd\n",
    "from google.oauth2.service_account import Credentials\n",
    "from googleapiclient.discovery import build"
   ]
  },
  {
   "cell_type": "code",
   "execution_count": 3,
   "metadata": {},
   "outputs": [
    {
     "name": "stdout",
     "output_type": "stream",
     "text": [
      "6\n",
      "11\n",
      "12\n"
     ]
    }
   ],
   "source": [
    "#  host= '127.0.0.1:3306'\n",
    "conn = mysql.connector.connect(\n",
    "    host= '127.0.0.1',\n",
    "    user= 'root',\n",
    "    password= '312312534534qwe',\n",
    "    database= 'HomeWork'\n",
    ")\n",
    "cursor = conn.cursor()\n",
    "# Вычисление даты \"сегодня - 2 дня\"\n",
    "today = datetime.now().date()\n",
    "two_days_ago = today - timedelta(days=2)\n",
    "# Формирование SQL-запроса\n",
    "query = \"SELECT order_number FROM orders WHERE site_id IN (1, 2, 3) AND created_at >= %s\"\n",
    "params = (two_days_ago,)\n",
    "# Выполнение SQL-запроса\n",
    "cursor.execute(query, params)\n",
    "# Получение результатов запроса\n",
    "results = cursor.fetchall()\n",
    "# Вывод результатов\n",
    "for row in results:\n",
    "    print(row[0])"
   ]
  },
  {
   "cell_type": "code",
   "execution_count": 33,
   "metadata": {},
   "outputs": [
    {
     "name": "stdout",
     "output_type": "stream",
     "text": [
      "Event sent successfully.\n"
     ]
    }
   ],
   "source": [
    "import requests\n",
    "\n",
    "# Замените на свой GA4 Measurement ID (или идентификатор ресурса)\n",
    "GA4_MEASUREMENT_ID = 'G-GW1RQ6GBD9'\n",
    "\n",
    "# Замените на ваш endpoint Measurement Protocol (https://www.google-analytics.com/mp/collect)\n",
    "ENDPOINT = 'http://cs13655-opencart-wyjjf.tw1.ru'\n",
    "\n",
    "# Ваши данные события (пример)\n",
    "event_data = {\n",
    "    'v': '1',  # Версия Measurement Protocol\n",
    "    'tid': GA4_MEASUREMENT_ID,\n",
    "    'cid': '123456',  # Уникальный идентификатор клиента\n",
    "    't': 'event',  # Тип события\n",
    "    'ec': 'example_category',  # Категория события\n",
    "    'ea': 'example_action',  # Действие события\n",
    "    'el': 'example_label',  # Метка события\n",
    "    'ev': 1  # Значение события\n",
    "}\n",
    "\n",
    "response = requests.post(ENDPOINT, data=event_data)\n",
    "\n",
    "if response.status_code == 200:\n",
    "    print(\"Event sent successfully.\")\n",
    "else:\n",
    "    print(f\"Failed to send event. Status code: {response.status_code}\")\n",
    "    print(response.text)"
   ]
  },
  {
   "cell_type": "code",
   "execution_count": 27,
   "metadata": {},
   "outputs": [
    {
     "name": "stdout",
     "output_type": "stream",
     "text": [
      "Event sent successfully.\n",
      "Data:\n",
      "v: 1\n",
      "tid: G-GW1RQ6GBD9\n",
      "cid: 123456\n",
      "t: event\n",
      "ec: user_data\n",
      "ea: source_medium\n",
      "el: source=example_source|medium=example_medium\n",
      "\n"
     ]
    }
   ],
   "source": [
    "import requests\n",
    "\n",
    "# Замените на ваш GA4 Measurement ID (или идентификатор ресурса)\n",
    "GA4_MEASUREMENT_ID = 'G-GW1RQ6GBD9'\n",
    "\n",
    "# Замените на ваш endpoint Measurement Protocol (https://www.google-analytics.com/mp/collect)\n",
    "ENDPOINT = 'http://cs13655-opencart-wyjjf.tw1.ru'\n",
    "\n",
    "# Список для хранения данных\n",
    "data_list = []\n",
    "\n",
    "# Ваши данные события для отслеживания source и medium\n",
    "event_data = {\n",
    "    'v': '1',  # Версия Measurement Protocol\n",
    "    'tid': GA4_MEASUREMENT_ID,\n",
    "    'cid': '123456',  # Уникальный идентификатор клиента\n",
    "    't': 'event',  # Тип события\n",
    "    'ec': 'user_data',  # Категория события (пользовательские данные)\n",
    "    'ea': 'source_medium',  # Действие события (источник и медиум)\n",
    "    'el': 'source=example_source|medium=example_medium',  # Метка события\n",
    "}\n",
    "\n",
    "# Отправляем событие и добавляем его в список данных\n",
    "response = requests.post(ENDPOINT, data=event_data)\n",
    "if response.status_code == 200:\n",
    "    print(\"Event sent successfully.\")\n",
    "    data_list.append(event_data)\n",
    "else:\n",
    "    print(f\"Failed to send event. Status code: {response.status_code}\")\n",
    "    print(response.text)\n",
    "\n",
    "# Выводим данные из списка в терминал\n",
    "for data in data_list:\n",
    "    print(\"Data:\")\n",
    "    for key, value in data.items():\n",
    "        print(f\"{key}: {value}\")\n",
    "    print()"
   ]
  },
  {
   "cell_type": "code",
   "execution_count": 28,
   "metadata": {},
   "outputs": [
    {
     "name": "stdout",
     "output_type": "stream",
     "text": [
      "Event sent successfully.\n",
      "User ID | Source | Medium\n",
      "123456 | example_source | example_medium\n"
     ]
    }
   ],
   "source": [
    "import requests\n",
    "\n",
    "# Замените на ваш GA4 Measurement ID (или идентификатор ресурса)\n",
    "GA4_MEASUREMENT_ID = 'G-GW1RQ6GBD9'\n",
    "\n",
    "# Замените на ваш endpoint Measurement Protocol (https://www.google-analytics.com/mp/collect)\n",
    "ENDPOINT = 'http://cs13655-opencart-wyjjf.tw1.ru'\n",
    "\n",
    "# Список для хранения данных\n",
    "data_list = []\n",
    "\n",
    "# Ваши данные события для отслеживания source и medium\n",
    "event_data = {\n",
    "    'v': '1',  # Версия Measurement Protocol\n",
    "    'tid': GA4_MEASUREMENT_ID,\n",
    "    'cid': '123456',  # Уникальный идентификатор клиента\n",
    "    't': 'event',  # Тип события\n",
    "    'ec': 'user_data',  # Категория события (пользовательские данные)\n",
    "    'ea': 'source_medium',  # Действие события (источник и медиум)\n",
    "    'el': 'source=example_source|medium=example_medium',  # Метка события\n",
    "}\n",
    "\n",
    "# Отправляем событие и добавляем его в список данных\n",
    "response = requests.post(ENDPOINT, data=event_data)\n",
    "if response.status_code == 200:\n",
    "    print(\"Event sent successfully.\")\n",
    "    data_list.append(event_data)\n",
    "else:\n",
    "    print(f\"Failed to send event. Status code: {response.status_code}\")\n",
    "    print(response.text)\n",
    "\n",
    "# Вывод данных в виде таблицы\n",
    "print(\"User ID | Source | Medium\")\n",
    "for data in data_list:\n",
    "    user_id = data['cid']\n",
    "    label = data['el']\n",
    "    source = None\n",
    "    medium = None\n",
    "\n",
    "    # Разбираем метку события, чтобы получить source и medium\n",
    "    if label:\n",
    "        label_parts = label.split('|')\n",
    "        for part in label_parts:\n",
    "            key, value = part.split('=')\n",
    "            if key == 'source':\n",
    "                source = value\n",
    "            elif key == 'medium':\n",
    "                medium = value\n",
    "\n",
    "    print(f\"{user_id} | {source} | {medium}\")\n"
   ]
  },
  {
   "cell_type": "code",
   "execution_count": 34,
   "metadata": {},
   "outputs": [
    {
     "ename": "AttributeError",
     "evalue": "'Resource' object has no attribute 'reports'",
     "output_type": "error",
     "traceback": [
      "\u001b[1;31m---------------------------------------------------------------------------\u001b[0m",
      "\u001b[1;31mAttributeError\u001b[0m                            Traceback (most recent call last)",
      "\u001b[1;32mc:\\Users\\DNS\\Desktop\\Работка\\ga4.ipynb Ячейка 6\u001b[0m line \u001b[0;36m4\n\u001b[0;32m     <a href='vscode-notebook-cell:/c%3A/Users/DNS/Desktop/%D0%A0%D0%B0%D0%B1%D0%BE%D1%82%D0%BA%D0%B0/ga4.ipynb#X11sZmlsZQ%3D%3D?line=41'>42</a>\u001b[0m start_date \u001b[39m=\u001b[39m \u001b[39m'\u001b[39m\u001b[39m2023-01-01\u001b[39m\u001b[39m'\u001b[39m\n\u001b[0;32m     <a href='vscode-notebook-cell:/c%3A/Users/DNS/Desktop/%D0%A0%D0%B0%D0%B1%D0%BE%D1%82%D0%BA%D0%B0/ga4.ipynb#X11sZmlsZQ%3D%3D?line=42'>43</a>\u001b[0m end_date \u001b[39m=\u001b[39m \u001b[39m'\u001b[39m\u001b[39m2023-01-31\u001b[39m\u001b[39m'\u001b[39m\n\u001b[1;32m---> <a href='vscode-notebook-cell:/c%3A/Users/DNS/Desktop/%D0%A0%D0%B0%D0%B1%D0%BE%D1%82%D0%BA%D0%B0/ga4.ipynb#X11sZmlsZQ%3D%3D?line=43'>44</a>\u001b[0m ga4_data \u001b[39m=\u001b[39m get_ga4_data(start_date, end_date)\n\u001b[0;32m     <a href='vscode-notebook-cell:/c%3A/Users/DNS/Desktop/%D0%A0%D0%B0%D0%B1%D0%BE%D1%82%D0%BA%D0%B0/ga4.ipynb#X11sZmlsZQ%3D%3D?line=45'>46</a>\u001b[0m \u001b[39m# Выводим полученные данные.\u001b[39;00m\n\u001b[0;32m     <a href='vscode-notebook-cell:/c%3A/Users/DNS/Desktop/%D0%A0%D0%B0%D0%B1%D0%BE%D1%82%D0%BA%D0%B0/ga4.ipynb#X11sZmlsZQ%3D%3D?line=46'>47</a>\u001b[0m \u001b[39mprint\u001b[39m(ga4_data)\n",
      "\u001b[1;32mc:\\Users\\DNS\\Desktop\\Работка\\ga4.ipynb Ячейка 6\u001b[0m line \u001b[0;36m2\n\u001b[0;32m     <a href='vscode-notebook-cell:/c%3A/Users/DNS/Desktop/%D0%A0%D0%B0%D0%B1%D0%BE%D1%82%D0%BA%D0%B0/ga4.ipynb#X11sZmlsZQ%3D%3D?line=16'>17</a>\u001b[0m ga4_service \u001b[39m=\u001b[39m build(\u001b[39m'\u001b[39m\u001b[39manalytics\u001b[39m\u001b[39m'\u001b[39m, \u001b[39m'\u001b[39m\u001b[39mv3\u001b[39m\u001b[39m'\u001b[39m, credentials\u001b[39m=\u001b[39mcredentials)\n\u001b[0;32m     <a href='vscode-notebook-cell:/c%3A/Users/DNS/Desktop/%D0%A0%D0%B0%D0%B1%D0%BE%D1%82%D0%BA%D0%B0/ga4.ipynb#X11sZmlsZQ%3D%3D?line=18'>19</a>\u001b[0m \u001b[39m# Запрашиваем данные из GA4.\u001b[39;00m\n\u001b[1;32m---> <a href='vscode-notebook-cell:/c%3A/Users/DNS/Desktop/%D0%A0%D0%B0%D0%B1%D0%BE%D1%82%D0%BA%D0%B0/ga4.ipynb#X11sZmlsZQ%3D%3D?line=19'>20</a>\u001b[0m response \u001b[39m=\u001b[39m ga4_service\u001b[39m.\u001b[39;49mreports()\u001b[39m.\u001b[39mbatchGet(\n\u001b[0;32m     <a href='vscode-notebook-cell:/c%3A/Users/DNS/Desktop/%D0%A0%D0%B0%D0%B1%D0%BE%D1%82%D0%BA%D0%B0/ga4.ipynb#X11sZmlsZQ%3D%3D?line=20'>21</a>\u001b[0m     body\u001b[39m=\u001b[39m{\n\u001b[0;32m     <a href='vscode-notebook-cell:/c%3A/Users/DNS/Desktop/%D0%A0%D0%B0%D0%B1%D0%BE%D1%82%D0%BA%D0%B0/ga4.ipynb#X11sZmlsZQ%3D%3D?line=21'>22</a>\u001b[0m         \u001b[39m'\u001b[39m\u001b[39mreportRequests\u001b[39m\u001b[39m'\u001b[39m: [\n\u001b[0;32m     <a href='vscode-notebook-cell:/c%3A/Users/DNS/Desktop/%D0%A0%D0%B0%D0%B1%D0%BE%D1%82%D0%BA%D0%B0/ga4.ipynb#X11sZmlsZQ%3D%3D?line=22'>23</a>\u001b[0m             {\n\u001b[0;32m     <a href='vscode-notebook-cell:/c%3A/Users/DNS/Desktop/%D0%A0%D0%B0%D0%B1%D0%BE%D1%82%D0%BA%D0%B0/ga4.ipynb#X11sZmlsZQ%3D%3D?line=23'>24</a>\u001b[0m                 \u001b[39m'\u001b[39m\u001b[39mviewId\u001b[39m\u001b[39m'\u001b[39m: property_id,\n\u001b[0;32m     <a href='vscode-notebook-cell:/c%3A/Users/DNS/Desktop/%D0%A0%D0%B0%D0%B1%D0%BE%D1%82%D0%BA%D0%B0/ga4.ipynb#X11sZmlsZQ%3D%3D?line=24'>25</a>\u001b[0m                 \u001b[39m'\u001b[39m\u001b[39mdateRanges\u001b[39m\u001b[39m'\u001b[39m: [{\u001b[39m'\u001b[39m\u001b[39mstartDate\u001b[39m\u001b[39m'\u001b[39m: start_date, \u001b[39m'\u001b[39m\u001b[39mendDate\u001b[39m\u001b[39m'\u001b[39m: end_date}],\n\u001b[0;32m     <a href='vscode-notebook-cell:/c%3A/Users/DNS/Desktop/%D0%A0%D0%B0%D0%B1%D0%BE%D1%82%D0%BA%D0%B0/ga4.ipynb#X11sZmlsZQ%3D%3D?line=25'>26</a>\u001b[0m                 \u001b[39m'\u001b[39m\u001b[39mmetrics\u001b[39m\u001b[39m'\u001b[39m: [{\u001b[39m'\u001b[39m\u001b[39mexpression\u001b[39m\u001b[39m'\u001b[39m: \u001b[39m'\u001b[39m\u001b[39mga:totalEvents\u001b[39m\u001b[39m'\u001b[39m}],\n\u001b[0;32m     <a href='vscode-notebook-cell:/c%3A/Users/DNS/Desktop/%D0%A0%D0%B0%D0%B1%D0%BE%D1%82%D0%BA%D0%B0/ga4.ipynb#X11sZmlsZQ%3D%3D?line=26'>27</a>\u001b[0m                 \u001b[39m'\u001b[39m\u001b[39mdimensions\u001b[39m\u001b[39m'\u001b[39m: [{\u001b[39m'\u001b[39m\u001b[39mname\u001b[39m\u001b[39m'\u001b[39m: \u001b[39m'\u001b[39m\u001b[39mga:medium\u001b[39m\u001b[39m'\u001b[39m}, {\u001b[39m'\u001b[39m\u001b[39mname\u001b[39m\u001b[39m'\u001b[39m: \u001b[39m'\u001b[39m\u001b[39mga:source\u001b[39m\u001b[39m'\u001b[39m}],\n\u001b[0;32m     <a href='vscode-notebook-cell:/c%3A/Users/DNS/Desktop/%D0%A0%D0%B0%D0%B1%D0%BE%D1%82%D0%BA%D0%B0/ga4.ipynb#X11sZmlsZQ%3D%3D?line=27'>28</a>\u001b[0m             }\n\u001b[0;32m     <a href='vscode-notebook-cell:/c%3A/Users/DNS/Desktop/%D0%A0%D0%B0%D0%B1%D0%BE%D1%82%D0%BA%D0%B0/ga4.ipynb#X11sZmlsZQ%3D%3D?line=28'>29</a>\u001b[0m         ]\n\u001b[0;32m     <a href='vscode-notebook-cell:/c%3A/Users/DNS/Desktop/%D0%A0%D0%B0%D0%B1%D0%BE%D1%82%D0%BA%D0%B0/ga4.ipynb#X11sZmlsZQ%3D%3D?line=29'>30</a>\u001b[0m     }\n\u001b[0;32m     <a href='vscode-notebook-cell:/c%3A/Users/DNS/Desktop/%D0%A0%D0%B0%D0%B1%D0%BE%D1%82%D0%BA%D0%B0/ga4.ipynb#X11sZmlsZQ%3D%3D?line=30'>31</a>\u001b[0m )\u001b[39m.\u001b[39mexecute()\n\u001b[0;32m     <a href='vscode-notebook-cell:/c%3A/Users/DNS/Desktop/%D0%A0%D0%B0%D0%B1%D0%BE%D1%82%D0%BA%D0%B0/ga4.ipynb#X11sZmlsZQ%3D%3D?line=32'>33</a>\u001b[0m \u001b[39m# Извлекаем данные из ответа.\u001b[39;00m\n\u001b[0;32m     <a href='vscode-notebook-cell:/c%3A/Users/DNS/Desktop/%D0%A0%D0%B0%D0%B1%D0%BE%D1%82%D0%BA%D0%B0/ga4.ipynb#X11sZmlsZQ%3D%3D?line=33'>34</a>\u001b[0m data \u001b[39m=\u001b[39m response[\u001b[39m'\u001b[39m\u001b[39mreports\u001b[39m\u001b[39m'\u001b[39m][\u001b[39m0\u001b[39m][\u001b[39m'\u001b[39m\u001b[39mdata\u001b[39m\u001b[39m'\u001b[39m][\u001b[39m'\u001b[39m\u001b[39mrows\u001b[39m\u001b[39m'\u001b[39m]\n",
      "\u001b[1;31mAttributeError\u001b[0m: 'Resource' object has no attribute 'reports'"
     ]
    }
   ],
   "source": [
    "from google.oauth2 import service_account\n",
    "from googleapiclient.discovery import build\n",
    "import pandas as pd\n",
    "\n",
    "# Замените на свой путь к файлу ключа службы и идентификатор GA4 ресурса.\n",
    "service_account_file = 'swift-setup-401613-fb88b16e247f.json'\n",
    "property_id = 'G-GW1RQ6GBD9'\n",
    "\n",
    "# Функция для настройки аутентификации и получения данных из GA4.\n",
    "def get_ga4_data(start_date, end_date):\n",
    "    # Создаем клиентское подключение с использованием учетных данных службы.\n",
    "    credentials = service_account.Credentials.from_service_account_file(\n",
    "        service_account_file, scopes=['https://cs13655-opencart-wyjjf.tw1.ru']\n",
    "    )\n",
    "\n",
    "    # Создаем объект для взаимодействия с API GA4.\n",
    "    ga4_service = build('analytics', 'v3', credentials=credentials)\n",
    "\n",
    "    # Запрашиваем данные из GA4.\n",
    "    response = ga4_service.reports().batchGet(\n",
    "        body={\n",
    "            'reportRequests': [\n",
    "                {\n",
    "                    'viewId': property_id,\n",
    "                    'dateRanges': [{'startDate': start_date, 'endDate': end_date}],\n",
    "                    'metrics': [{'expression': 'ga:totalEvents'}],\n",
    "                    'dimensions': [{'name': 'ga:medium'}, {'name': 'ga:source'}],\n",
    "                }\n",
    "            ]\n",
    "        }\n",
    "    ).execute()\n",
    "\n",
    "    # Извлекаем данные из ответа.\n",
    "    data = response['reports'][0]['data']['rows']\n",
    "\n",
    "    # Преобразуем данные в DataFrame с использованием библиотеки pandas.\n",
    "    df = pd.DataFrame([row['dimensions'] + row['metrics'] for row in data], columns=['Medium', 'Source', 'TotalEvents'])\n",
    "\n",
    "    return df\n",
    "\n",
    "if __name__ == \"__main__\":\n",
    "    start_date = '2023-01-01'\n",
    "    end_date = '2023-01-31'\n",
    "    ga4_data = get_ga4_data(start_date, end_date)\n",
    "\n",
    "    # Выводим полученные данные.\n",
    "    print(ga4_data)\n"
   ]
  },
  {
   "cell_type": "code",
   "execution_count": 35,
   "metadata": {},
   "outputs": [
    {
     "ename": "DefaultCredentialsError",
     "evalue": "Your default credentials were not found. To set up Application Default Credentials, see https://cloud.google.com/docs/authentication/external/set-up-adc for more information.",
     "output_type": "error",
     "traceback": [
      "\u001b[1;31m---------------------------------------------------------------------------\u001b[0m",
      "\u001b[1;31mDefaultCredentialsError\u001b[0m                   Traceback (most recent call last)",
      "\u001b[1;32mc:\\Users\\DNS\\Desktop\\Работка\\ga4.ipynb Ячейка 7\u001b[0m line \u001b[0;36m4\n\u001b[0;32m     <a href='vscode-notebook-cell:/c%3A/Users/DNS/Desktop/%D0%A0%D0%B0%D0%B1%D0%BE%D1%82%D0%BA%D0%B0/ga4.ipynb#X12sZmlsZQ%3D%3D?line=37'>38</a>\u001b[0m \u001b[39m# Для каждого order_number производится запрос в GA4 для получения параметров medium/source \u001b[39;00m\n\u001b[0;32m     <a href='vscode-notebook-cell:/c%3A/Users/DNS/Desktop/%D0%A0%D0%B0%D0%B1%D0%BE%D1%82%D0%BA%D0%B0/ga4.ipynb#X12sZmlsZQ%3D%3D?line=38'>39</a>\u001b[0m \u001b[39mfor\u001b[39;00m order_number \u001b[39min\u001b[39;00m results:\n\u001b[1;32m---> <a href='vscode-notebook-cell:/c%3A/Users/DNS/Desktop/%D0%A0%D0%B0%D0%B1%D0%BE%D1%82%D0%BA%D0%B0/ga4.ipynb#X12sZmlsZQ%3D%3D?line=39'>40</a>\u001b[0m     query_google_analytics(order_number, today, two_days_ago)\n\u001b[0;32m     <a href='vscode-notebook-cell:/c%3A/Users/DNS/Desktop/%D0%A0%D0%B0%D0%B1%D0%BE%D1%82%D0%BA%D0%B0/ga4.ipynb#X12sZmlsZQ%3D%3D?line=41'>42</a>\u001b[0m \u001b[39m# Закрытие соединения с базой данных\u001b[39;00m\n\u001b[0;32m     <a href='vscode-notebook-cell:/c%3A/Users/DNS/Desktop/%D0%A0%D0%B0%D0%B1%D0%BE%D1%82%D0%BA%D0%B0/ga4.ipynb#X12sZmlsZQ%3D%3D?line=42'>43</a>\u001b[0m conn\u001b[39m.\u001b[39mclose()\n",
      "\u001b[1;32mc:\\Users\\DNS\\Desktop\\Работка\\ga4.ipynb Ячейка 7\u001b[0m line \u001b[0;36m7\n\u001b[0;32m      <a href='vscode-notebook-cell:/c%3A/Users/DNS/Desktop/%D0%A0%D0%B0%D0%B1%D0%BE%D1%82%D0%BA%D0%B0/ga4.ipynb#X12sZmlsZQ%3D%3D?line=4'>5</a>\u001b[0m \u001b[39mdef\u001b[39;00m \u001b[39mquery_google_analytics\u001b[39m(order_number, start_date, end_date):\n\u001b[0;32m      <a href='vscode-notebook-cell:/c%3A/Users/DNS/Desktop/%D0%A0%D0%B0%D0%B1%D0%BE%D1%82%D0%BA%D0%B0/ga4.ipynb#X12sZmlsZQ%3D%3D?line=5'>6</a>\u001b[0m     \u001b[39m# Создание клиента для работы с API Google Analytics\u001b[39;00m\n\u001b[1;32m----> <a href='vscode-notebook-cell:/c%3A/Users/DNS/Desktop/%D0%A0%D0%B0%D0%B1%D0%BE%D1%82%D0%BA%D0%B0/ga4.ipynb#X12sZmlsZQ%3D%3D?line=6'>7</a>\u001b[0m     client \u001b[39m=\u001b[39m BetaAnalyticsDataClient()\n\u001b[0;32m      <a href='vscode-notebook-cell:/c%3A/Users/DNS/Desktop/%D0%A0%D0%B0%D0%B1%D0%BE%D1%82%D0%BA%D0%B0/ga4.ipynb#X12sZmlsZQ%3D%3D?line=8'>9</a>\u001b[0m     \u001b[39m# Определение параметров запроса\u001b[39;00m\n\u001b[0;32m     <a href='vscode-notebook-cell:/c%3A/Users/DNS/Desktop/%D0%A0%D0%B0%D0%B1%D0%BE%D1%82%D0%BA%D0%B0/ga4.ipynb#X12sZmlsZQ%3D%3D?line=9'>10</a>\u001b[0m     dimensions \u001b[39m=\u001b[39m [Dimension(name\u001b[39m=\u001b[39m\u001b[39m'\u001b[39m\u001b[39mga:medium\u001b[39m\u001b[39m'\u001b[39m), Dimension(name\u001b[39m=\u001b[39m\u001b[39m'\u001b[39m\u001b[39mga:source\u001b[39m\u001b[39m'\u001b[39m)]\n",
      "File \u001b[1;32mc:\\Users\\DNS\\AppData\\Local\\Programs\\Python\\Python311\\Lib\\site-packages\\google\\analytics\\data_v1beta\\services\\beta_analytics_data\\client.py:426\u001b[0m, in \u001b[0;36mBetaAnalyticsDataClient.__init__\u001b[1;34m(self, credentials, transport, client_options, client_info)\u001b[0m\n\u001b[0;32m    421\u001b[0m     credentials \u001b[39m=\u001b[39m google\u001b[39m.\u001b[39mauth\u001b[39m.\u001b[39m_default\u001b[39m.\u001b[39mget_api_key_credentials(\n\u001b[0;32m    422\u001b[0m         api_key_value\n\u001b[0;32m    423\u001b[0m     )\n\u001b[0;32m    425\u001b[0m Transport \u001b[39m=\u001b[39m \u001b[39mtype\u001b[39m(\u001b[39mself\u001b[39m)\u001b[39m.\u001b[39mget_transport_class(transport)\n\u001b[1;32m--> 426\u001b[0m \u001b[39mself\u001b[39m\u001b[39m.\u001b[39m_transport \u001b[39m=\u001b[39m Transport(\n\u001b[0;32m    427\u001b[0m     credentials\u001b[39m=\u001b[39;49mcredentials,\n\u001b[0;32m    428\u001b[0m     credentials_file\u001b[39m=\u001b[39;49mclient_options\u001b[39m.\u001b[39;49mcredentials_file,\n\u001b[0;32m    429\u001b[0m     host\u001b[39m=\u001b[39;49mapi_endpoint,\n\u001b[0;32m    430\u001b[0m     scopes\u001b[39m=\u001b[39;49mclient_options\u001b[39m.\u001b[39;49mscopes,\n\u001b[0;32m    431\u001b[0m     client_cert_source_for_mtls\u001b[39m=\u001b[39;49mclient_cert_source_func,\n\u001b[0;32m    432\u001b[0m     quota_project_id\u001b[39m=\u001b[39;49mclient_options\u001b[39m.\u001b[39;49mquota_project_id,\n\u001b[0;32m    433\u001b[0m     client_info\u001b[39m=\u001b[39;49mclient_info,\n\u001b[0;32m    434\u001b[0m     always_use_jwt_access\u001b[39m=\u001b[39;49m\u001b[39mTrue\u001b[39;49;00m,\n\u001b[0;32m    435\u001b[0m     api_audience\u001b[39m=\u001b[39;49mclient_options\u001b[39m.\u001b[39;49mapi_audience,\n\u001b[0;32m    436\u001b[0m )\n",
      "File \u001b[1;32mc:\\Users\\DNS\\AppData\\Local\\Programs\\Python\\Python311\\Lib\\site-packages\\google\\analytics\\data_v1beta\\services\\beta_analytics_data\\transports\\grpc.py:148\u001b[0m, in \u001b[0;36mBetaAnalyticsDataGrpcTransport.__init__\u001b[1;34m(self, host, credentials, credentials_file, scopes, channel, api_mtls_endpoint, client_cert_source, ssl_channel_credentials, client_cert_source_for_mtls, quota_project_id, client_info, always_use_jwt_access, api_audience)\u001b[0m\n\u001b[0;32m    143\u001b[0m             \u001b[39mself\u001b[39m\u001b[39m.\u001b[39m_ssl_channel_credentials \u001b[39m=\u001b[39m grpc\u001b[39m.\u001b[39mssl_channel_credentials(\n\u001b[0;32m    144\u001b[0m                 certificate_chain\u001b[39m=\u001b[39mcert, private_key\u001b[39m=\u001b[39mkey\n\u001b[0;32m    145\u001b[0m             )\n\u001b[0;32m    147\u001b[0m \u001b[39m# The base transport sets the host, credentials and scopes\u001b[39;00m\n\u001b[1;32m--> 148\u001b[0m \u001b[39msuper\u001b[39;49m()\u001b[39m.\u001b[39;49m\u001b[39m__init__\u001b[39;49m(\n\u001b[0;32m    149\u001b[0m     host\u001b[39m=\u001b[39;49mhost,\n\u001b[0;32m    150\u001b[0m     credentials\u001b[39m=\u001b[39;49mcredentials,\n\u001b[0;32m    151\u001b[0m     credentials_file\u001b[39m=\u001b[39;49mcredentials_file,\n\u001b[0;32m    152\u001b[0m     scopes\u001b[39m=\u001b[39;49mscopes,\n\u001b[0;32m    153\u001b[0m     quota_project_id\u001b[39m=\u001b[39;49mquota_project_id,\n\u001b[0;32m    154\u001b[0m     client_info\u001b[39m=\u001b[39;49mclient_info,\n\u001b[0;32m    155\u001b[0m     always_use_jwt_access\u001b[39m=\u001b[39;49malways_use_jwt_access,\n\u001b[0;32m    156\u001b[0m     api_audience\u001b[39m=\u001b[39;49mapi_audience,\n\u001b[0;32m    157\u001b[0m )\n\u001b[0;32m    159\u001b[0m \u001b[39mif\u001b[39;00m \u001b[39mnot\u001b[39;00m \u001b[39mself\u001b[39m\u001b[39m.\u001b[39m_grpc_channel:\n\u001b[0;32m    160\u001b[0m     \u001b[39mself\u001b[39m\u001b[39m.\u001b[39m_grpc_channel \u001b[39m=\u001b[39m \u001b[39mtype\u001b[39m(\u001b[39mself\u001b[39m)\u001b[39m.\u001b[39mcreate_channel(\n\u001b[0;32m    161\u001b[0m         \u001b[39mself\u001b[39m\u001b[39m.\u001b[39m_host,\n\u001b[0;32m    162\u001b[0m         \u001b[39m# use the credentials which are saved\u001b[39;00m\n\u001b[1;32m   (...)\u001b[0m\n\u001b[0;32m    173\u001b[0m         ],\n\u001b[0;32m    174\u001b[0m     )\n",
      "File \u001b[1;32mc:\\Users\\DNS\\AppData\\Local\\Programs\\Python\\Python311\\Lib\\site-packages\\google\\analytics\\data_v1beta\\services\\beta_analytics_data\\transports\\base.py:100\u001b[0m, in \u001b[0;36mBetaAnalyticsDataTransport.__init__\u001b[1;34m(self, host, credentials, credentials_file, scopes, quota_project_id, client_info, always_use_jwt_access, api_audience, **kwargs)\u001b[0m\n\u001b[0;32m     96\u001b[0m     credentials, _ \u001b[39m=\u001b[39m google\u001b[39m.\u001b[39mauth\u001b[39m.\u001b[39mload_credentials_from_file(\n\u001b[0;32m     97\u001b[0m         credentials_file, \u001b[39m*\u001b[39m\u001b[39m*\u001b[39mscopes_kwargs, quota_project_id\u001b[39m=\u001b[39mquota_project_id\n\u001b[0;32m     98\u001b[0m     )\n\u001b[0;32m     99\u001b[0m \u001b[39melif\u001b[39;00m credentials \u001b[39mis\u001b[39;00m \u001b[39mNone\u001b[39;00m:\n\u001b[1;32m--> 100\u001b[0m     credentials, _ \u001b[39m=\u001b[39m google\u001b[39m.\u001b[39;49mauth\u001b[39m.\u001b[39;49mdefault(\n\u001b[0;32m    101\u001b[0m         \u001b[39m*\u001b[39;49m\u001b[39m*\u001b[39;49mscopes_kwargs, quota_project_id\u001b[39m=\u001b[39;49mquota_project_id\n\u001b[0;32m    102\u001b[0m     )\n\u001b[0;32m    103\u001b[0m     \u001b[39m# Don't apply audience if the credentials file passed from user.\u001b[39;00m\n\u001b[0;32m    104\u001b[0m     \u001b[39mif\u001b[39;00m \u001b[39mhasattr\u001b[39m(credentials, \u001b[39m\"\u001b[39m\u001b[39mwith_gdch_audience\u001b[39m\u001b[39m\"\u001b[39m):\n",
      "File \u001b[1;32mc:\\Users\\DNS\\AppData\\Local\\Programs\\Python\\Python311\\Lib\\site-packages\\google\\auth\\_default.py:691\u001b[0m, in \u001b[0;36mdefault\u001b[1;34m(scopes, request, quota_project_id, default_scopes)\u001b[0m\n\u001b[0;32m    683\u001b[0m             _LOGGER\u001b[39m.\u001b[39mwarning(\n\u001b[0;32m    684\u001b[0m                 \u001b[39m\"\u001b[39m\u001b[39mNo project ID could be determined. Consider running \u001b[39m\u001b[39m\"\u001b[39m\n\u001b[0;32m    685\u001b[0m                 \u001b[39m\"\u001b[39m\u001b[39m`gcloud config set project` or setting the \u001b[39m\u001b[39m%s\u001b[39;00m\u001b[39m \u001b[39m\u001b[39m\"\u001b[39m\n\u001b[0;32m    686\u001b[0m                 \u001b[39m\"\u001b[39m\u001b[39menvironment variable\u001b[39m\u001b[39m\"\u001b[39m,\n\u001b[0;32m    687\u001b[0m                 environment_vars\u001b[39m.\u001b[39mPROJECT,\n\u001b[0;32m    688\u001b[0m             )\n\u001b[0;32m    689\u001b[0m         \u001b[39mreturn\u001b[39;00m credentials, effective_project_id\n\u001b[1;32m--> 691\u001b[0m \u001b[39mraise\u001b[39;00m exceptions\u001b[39m.\u001b[39mDefaultCredentialsError(_CLOUD_SDK_MISSING_CREDENTIALS)\n",
      "\u001b[1;31mDefaultCredentialsError\u001b[0m: Your default credentials were not found. To set up Application Default Credentials, see https://cloud.google.com/docs/authentication/external/set-up-adc for more information."
     ]
    }
   ],
   "source": [
    "\n",
    "from datetime import datetime, timedelta\n",
    "from google.analytics.data_v1beta import BetaAnalyticsDataClient\n",
    "from google.analytics.data_v1beta.types import Dimension\n",
    "\n",
    "def query_google_analytics(order_number, start_date, end_date):\n",
    "    # Создание клиента для работы с API Google Analytics\n",
    "    client = BetaAnalyticsDataClient()\n",
    "\n",
    "    # Определение параметров запроса\n",
    "    dimensions = [Dimension(name='ga:medium'), Dimension(name='ga:source')]\n",
    "    metric = {'name': 'ga:sessions'}\n",
    "    date_range = {'start_date': start_date, 'end_date': end_date}\n",
    "    order_number_filter = f'ga:eventLabel=={order_number}'\n",
    "\n",
    "    # Выполнение запроса\n",
    "    response = client.run_report(\n",
    "        property=f'properties/G-GW1RQ6GBD9',  # Исправлена ошибка в строке\n",
    "        dimensions=dimensions,\n",
    "        metrics=[metric],\n",
    "        date_ranges=[date_range],\n",
    "        filters=[order_number_filter]\n",
    "    )\n",
    "\n",
    "    # Обработка результатов запроса\n",
    "    for row in response.rows:\n",
    "        medium = row.dimension_values[0].value\n",
    "        source = row.dimension_values[1].value\n",
    "        sessions = row.metric_values[0].value\n",
    "\n",
    "        # Вывод результатов в терминал\n",
    "        print(f\"Order Number: {order_number}, Medium: {medium}, Source: {source}, Sessions: {sessions}\")\n",
    "\n",
    "# Замените results на список заказов, для которых вы хотите выполнить запросы\n",
    "results = [12345, 67890]\n",
    "today = datetime.now().date()\n",
    "two_days_ago = today - timedelta(days=2)\n",
    "\n",
    "# Для каждого order_number производится запрос в GA4 для получения параметров medium/source \n",
    "for order_number in results:\n",
    "    query_google_analytics(order_number, today, two_days_ago)\n",
    "\n",
    "# Закрытие соединения с базой данных\n",
    "conn.close()\n"
   ]
  }
 ],
 "metadata": {
  "kernelspec": {
   "display_name": "Python 3",
   "language": "python",
   "name": "python3"
  },
  "language_info": {
   "codemirror_mode": {
    "name": "ipython",
    "version": 3
   },
   "file_extension": ".py",
   "mimetype": "text/x-python",
   "name": "python",
   "nbconvert_exporter": "python",
   "pygments_lexer": "ipython3",
   "version": "3.11.2"
  }
 },
 "nbformat": 4,
 "nbformat_minor": 2
}
